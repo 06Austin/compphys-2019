{
 "cells": [
  {
   "cell_type": "markdown",
   "metadata": {},
   "source": [
    "<table style=\"width: 100%; border-style: none;\">\n",
    "<tr style=\"border-style: none\">\n",
    "<td style=\"border-style: none; width: 1%; font-size: 16px; text-align: left\">Institut f&uuml;r Theoretische Physik<br /> Universit&auml;t zu K&ouml;ln</td>\n",
    "<td style=\"border-style: none; width: 1%; font-size: 16px\">&nbsp;</td>\n",
    "<td style=\"border-style: none; width: 1%; text-align: right; font-size: 16px\">Prof. Dr. Simon Trebst<br />Jan Attig</td>\n",
    "</tr>\n",
    "</table>\n",
    "<hr>\n",
    "<h1 style=\"font-weight:bold; text-align: center; margin: 0px; padding:0px;\">Computerphysik</h1>\n",
    "<h1 style=\"font-weight:bold; text-align: center; margin: 0px; padding:0px;\">&Uuml;bungsblatt 3</h1>\n",
    "<hr>\n",
    "<h3 style=\"font-weight:bold; text-align: center; margin: 0px; padding:0px; margin-bottom: 20px;\">Sommersemester 2019</h3>\n",
    "\n",
    "**Website:** [http://www.thp.uni-koeln.de/trebst/Lectures/2019-CompPhys.shtml](http://www.thp.uni-koeln.de/trebst/Lectures/2019-CompPhys.shtml)\n",
    "\n",
    "**Abgabe der Bonusaufgabe**: Montag, 29.4.2019, **vor** der Vorlesung\n",
    "\n",
    "**Besprechung**: 24.4.2019 - 26.4.2019\n",
    "\n",
    "\n",
    "**Name**: <font color=\"red\">Bitte geben Sie ihren Namen an</font>\n",
    "\n",
    "**Matrikelnummer**: <font color=\"red\">Bitte geben Sie ihre Matrikelnummer an</font>"
   ]
  },
  {
   "cell_type": "markdown",
   "metadata": {},
   "source": [
    "<table style=\"border-style: none; width: 100%\"><tr style=\"border-style: none;\">\n",
    "<td style=\"border-style: none; width: 1%; font-size: 20px; font-weight: bold; text-align: left\">Aufgaben auf Übungsblatt 3</td>\n",
    "<td style=\"border-style: none; width: 1%; font-size: 15px; text-align: right\"></td></tr></table>\n",
    "\n",
    "Auf Grund der Ostertage haben wir uns entschieden, auf diesem Übungszettel nur eine Aufgabe (sowie eine Bonusaufgabe) zu stellen damit Sie zusätzliche Zeit über die Tage und in den Übungsgruppen nächste Woche mit der Wiederholung der Programmier-Grundlagen (Blatt 1 und 2) verbringen können. Wir möchten auch an die Julia Resourcen auf der  [Kurs-Website](http://www.thp.uni-koeln.de/trebst/Lectures/2019-CompPhys.shtml) erinnern, die viele nützliche Tutorials enthalten.\n",
    "- Rauschmittel [5 Punkte]\n",
    "- **Zelluläre Automaten** [10 Bonus-Punkte]"
   ]
  },
  {
   "cell_type": "markdown",
   "metadata": {},
   "source": [
    "<table style=\"border-style: none; width: 100%\"><tr style=\"border-style: none;\">\n",
    "<td style=\"border-style: none; width: 1%; text-align: left; font-size: 20px; font-weight: bold\">Zelluläre Automaten</td>\n",
    "<td style=\"border-style: none; width: 1%; text-align: right; font-size: 15px\">(10 Bonuspunkte)</td></tr></table>"
   ]
  },
  {
   "cell_type": "markdown",
   "metadata": {},
   "source": [
    "In dieser *optionalen Aufgabe* betrachten wir die zeitlichen Entwicklung zweier **2D zellulärer Automaten**. Ein solcher zellulärer Automat ist ein diskretes System aus einzelnen Zellen, die in einem Quadratgitter angeordnet sind, und basierend auf ihrem eigenen Zustand und dem der umgegebenen Zellen in jedem Zeitschritt aktualisiert werden.\n",
    "\n",
    "In dieser Aufgabe wollen wir uns auf zwei verschiedene Systeme konzentrieren. Zum einen behandeln wir einen *chemischen zellulären Automaten* mit drei Parametern $a, b, c \\in [0, 1)$ und zum anderen das bekannte *Conway's Game of Life*.\n",
    "\n",
    "Um Ihnen den Einstieg in diese Aufgabe zu erleichern, stellen wir Ihnen die nötigen Funktionen zur Seite, die Ihren Automaten animieren werden (basierend auf Ihrer Berechnung der Zustände). Beachten Sie jedoch bitte, dass diese Funktionen nicht in Julia Box funktionieren."
   ]
  },
  {
   "cell_type": "code",
   "execution_count": null,
   "metadata": {},
   "outputs": [],
   "source": [
    "# Useful Base Libraries\n",
    "using LinearAlgebra\n",
    "using Statistics\n",
    "\n",
    "# Plotting Stuff\n",
    "using PyPlot # plotting library\n",
    "pygui(true)  # external window\n",
    "\n",
    "# generieren der Figur\n",
    "function generate_image(data)\n",
    "    fig = figure(figsize=(6,6), frameon=false)\n",
    "    image = imshow(data'[end:-1:1,:], interpolation=\"none\")\n",
    "    axis(\"off\")\n",
    "    fig.subplots_adjust(bottom=0, top=1, right=1, left=0)\n",
    "    return image\n",
    "end\n",
    "\n",
    "# Updaten der Figur\n",
    "function update_image(image, data)\n",
    "    image.set_array(data'[end:-1:1,:])\n",
    "    pause(0.001)\n",
    "end"
   ]
  },
  {
   "cell_type": "markdown",
   "metadata": {},
   "source": [
    "Um Ihnen einen einfachen Einstieg in die Programmierung von zellulären Automaten zu geben, stellen wir Ihnen zusätzlich eine Funktion `neighbors` bereit, die die Summe der Nachbarn um eine Stelle `i,j` in einem gegebenen Array berechnet."
   ]
  },
  {
   "cell_type": "code",
   "execution_count": null,
   "metadata": {},
   "outputs": [],
   "source": [
    "# Summe der Nachbarn um (i,j) im Array data berechnen\n",
    "function neighbors(data, i, j)\n",
    "    if i == size(data,1)\n",
    "        ip1 = 1\n",
    "        im1 = i-1\n",
    "    elseif i == 1\n",
    "        ip1 = i+1\n",
    "        im1 = size(data,1)\n",
    "    else\n",
    "        ip1 = i+1      \n",
    "        im1 = i-1 \n",
    "    end\n",
    "    if j == size(data,2)\n",
    "        jp1 = 1\n",
    "        jm1 = j-1\n",
    "    elseif j == 1\n",
    "        jp1 = j+1\n",
    "        jm1 = size(data,2)\n",
    "    else\n",
    "        jp1 = j+1\n",
    "        jm1 = j-1\n",
    "    end\n",
    "    return  data[ip1, j] +\n",
    "            data[im1, j] +\n",
    "            data[ip1, jp1] +\n",
    "            data[im1, jp1] +\n",
    "            data[ip1, jm1] +\n",
    "            data[im1, jm1] +\n",
    "            data[i, jp1] +\n",
    "            data[i, jm1]\n",
    "end"
   ]
  },
  {
   "cell_type": "markdown",
   "metadata": {},
   "source": [
    "### 1. Chemischer zellulärer Automat\n",
    "\n",
    "Bei diesem Automaten werden die Zellen durch drei Parameter $a, b, c \\in [0, 1)$ beschrieben werden, welche die Konzentration dreier Chemikalien beschreiben sollen. Das Aktualisieren der Werte soll chemische Reaktionen zwischen diesen Substanzen beschreiben. Zu Anfang seien die drei Konzentrationen zufällig aus dem möglichen Wertebereich gewählt.\n",
    "\n",
    "Der zelluläre Automat funktioniert nun nach den folgenden Regeln:\n",
    "* Für jede Zelle wird der durchschnittliche Wert $\\overline{a}, \\overline{b}, \\overline{c}$ als Mittelwert der acht umgebenden Zellen sowie des Werts der Zelle selbst berechnet.\n",
    "* Der neue Zustand ist dann gegeben durch\n",
    "\n",
    "$\\quad a = \\min\\left(1.0,\\; \\overline{a}\\cdot\\left(1. + \\overline{b} - \\overline{c}\\right)\\right)$\n",
    "\n",
    "$\\quad b = \\min\\left(1.0,\\; \\overline{b}\\cdot \\left(1. + \\overline{c} - \\overline{a}\\right)\\right)$\n",
    "\n",
    "$\\quad c = \\min\\left(1.0,\\; \\overline{c}\\cdot \\left(1. + \\overline{a} - \\overline{b}\\right)\\right)$\n",
    "\n",
    "Ihre Aufgabe ist es das Programm-Skelett in den nachfolgenen Zellen zu vervollständigen und um das Update der Automaten-Zellen zu erweitern. Wie Sie erkennen können, wird der Automat bereits visualisiert indem eine der drei Konzentrationen dargestellt und in jedem Schritt aktualisiert wird. \n",
    "\n",
    "Es kann hilfreich sein, die Funktion `neighbors` zu benutzen, die oben bereits definiert ist. Diese erzeugt die Summe der umliegenden Nachbarn in einem gegebenen Array an einer gegebenen Position.\n",
    "\n",
    "Beachten Sie schließlich, dass alle Zellen *gleichzeitig* in den neuen Zustand übergehen, d.h. die Berechnung der Mittelwerte darf ausschließlich mit den Werten des vorherigen Iterationsschritts passieren und nicht mit denen der schon partiell veränderten Matrix.\n"
   ]
  },
  {
   "cell_type": "code",
   "execution_count": null,
   "metadata": {},
   "outputs": [],
   "source": [
    "# Systemgroesse\n",
    "L = 128\n",
    "\n",
    "# Die Werte a,b,c des Automaten als 3 Arrays der Groesse LxL\n",
    "automaton_a = rand(L, L)\n",
    "automaton_b = rand(L, L)\n",
    "automaton_c = rand(L, L)\n",
    "\n",
    "# Arrays fuer die Mittelwerte\n",
    "automaton_mean_a = zeros(L, L)\n",
    "automaton_mean_b = zeros(L, L)\n",
    "automaton_mean_c = zeros(L, L)\n",
    "\n",
    "# Erstes darstellen des Bildes\n",
    "image = generate_image(automaton_a)\n",
    "\n",
    "\n",
    "# Fuehre Schritte aus\n",
    "for step in 1:200\n",
    "    \n",
    "    ############################################\n",
    "    # HIER SOLLTE IHR CODE STEHEN\n",
    "    # Berechne die Mittelwerte    \n",
    "    # Berechne die neuen Automatenzustaende\n",
    "    ############################################\n",
    "\n",
    "    # Aktualisiere das Bild\n",
    "    update_image(image, automaton_a)\n",
    "end"
   ]
  },
  {
   "cell_type": "markdown",
   "metadata": {
    "collapsed": true
   },
   "source": [
    "### 2. Conway's Game of Life\n",
    "\n",
    "Im Folgenden wollen wir nun einen weiteren zellulären Automaten betrachten, der als [Conway's Game of Life](https://de.wikipedia.org/wiki/Conways_Spiel_des_Lebens) bekannt wurde. Die Grundlage dieses Automaten sind erneut Zellen, die in einem Quadratgitter angeordnet sind. Im Unterschied zum biologischen Automaten können diese jedoch nur zwischen zwei Zuständen wechseln, die wir im Folgenden als tot (`0`) und lebendig (`1`) bezeichnen wollen.\n",
    "\n",
    "In jedem Iterationsschritt wird nun für jede Zelle geprüft, ob sie lebt oder tot ist und wie viele lebendige Nachbarn sie besitzt. Daraus wird entwickelt, wie sich die Zelle im nächsten Iterationsschritt verhält:\n",
    "- Eine Zelle mit weniger als 2 lebendigen Nachbarn ist sicher im nächsten Schritt tot\n",
    "- Eine tote Zelle mit exakt 3 lebendigen Nachbarn wird im nächsten Schritt geboren\n",
    "- Eine lebeindige Zelle mit mehr als 3 lebendigen Nachbarn stirbt in der nächsten Generation an Überbevölkerung\n",
    "\n",
    "Ihre Aufgabe ist die Implementierung des Automaten basierend auf dieser kurzen Beschreibung sowie dem Code aus dem vorherigen Aufgabenteil. Testen Sie Ihre Implementierung indem Sie ein zufällig besetztes Array generieren und dieses als Startkonfiguration benutzen."
   ]
  },
  {
   "cell_type": "code",
   "execution_count": null,
   "metadata": {},
   "outputs": [],
   "source": [
    "# Systemgroesse\n",
    "L = 128\n",
    "\n",
    "############################################\n",
    "# HIER SOLLTE IHR CODE STEHEN\n",
    "# Das Array das die Zellen enthaelt erstellen\n",
    "# Array fuer Nachbaranzahlen erstellen\n",
    "# Erstes darstellen des Bildes\n",
    "# Schleife ueber Schritte\n",
    "    # Berechne die Mittelwerte    \n",
    "    # Berechne die neuen Automatenzustaende\n",
    "    # Bild aktualisieren\n",
    "############################################"
   ]
  },
  {
   "cell_type": "markdown",
   "metadata": {
    "collapsed": true
   },
   "source": [
    "Wie Sie sicherlich erkennen konnten, entwickelt sich die zufällige Konfiguration in vielerlei Hinsicht. Es gibt kleine Strukturen und Cluster die scheinbar statisch scheinen, sowie Elemente, die kurze Perioden durchlaufen (sogenannte Pulsare). Die Menge an verschiedene Konfigurationen und Mustern ist gigantisch und kann im [Game of Life Wiki](http://www.conwaylife.com/wiki/Main_Page) nachgelesen werden. Wenn sie dort verschiedenen Konfigurationen, wie die [Gosper Gleiterkanone](http://www.conwaylife.com/wiki/Gosper_glider_gun) o.Ä. betrachten, können Sie diese auch in einem sogenannten [RLE](http://www.conwaylife.com/wiki/RLE) Format direkt kopieren.\n",
    "\n",
    "Probieren Sie Ihren Code um eine Funktion zu erweitern, die aus einen RLE String in ihre Simulation einlesen kann. Welches Muster finden Sie am interessantesten?\n",
    "\n",
    "Hinweis: Sie mögen das String Macro `raw\"...\"` hier nützlich finden, da es Strings mit enthaltenen `$` darstellen kann. Z.B. erzeugt `raw\"ob$b\"` wirklich den entsprechenden String und will nicht den Buchstaben `b` interpretieren."
   ]
  },
  {
   "cell_type": "code",
   "execution_count": null,
   "metadata": {},
   "outputs": [],
   "source": []
  },
  {
   "cell_type": "code",
   "execution_count": null,
   "metadata": {},
   "outputs": [],
   "source": []
  }
 ],
 "metadata": {
  "@webio": {
   "lastCommId": "5b56f7a7f8f6473f86977b3f5dc7e527",
   "lastKernelId": "8285acdd-440a-48cc-bb52-ee59ffddeb50"
  },
  "kernelspec": {
   "display_name": "Julia 1.0.0",
   "language": "julia",
   "name": "julia-1.0"
  },
  "language_info": {
   "file_extension": ".jl",
   "mimetype": "application/julia",
   "name": "julia",
   "version": "1.0.0"
  }
 },
 "nbformat": 4,
 "nbformat_minor": 1
}

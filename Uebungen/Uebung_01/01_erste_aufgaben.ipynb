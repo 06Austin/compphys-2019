{
 "cells": [
  {
   "cell_type": "markdown",
   "metadata": {},
   "source": [
    "<table style=\"width: 100%; border-style: none;\">\n",
    "<tr style=\"border-style: none\">\n",
    "<td style=\"border-style: none; width: 1%; font-size: 16px\">Institut f&uuml;r Theoretische Physik<br /> Universit&auml;t zu K&ouml;ln</td>\n",
    "<td style=\"border-style: none; width: 1%; font-size: 16px\">&nbsp;</td>\n",
    "<td style=\"border-style: none; width: 1%; text-align: right; font-size: 16px\">Prof. Dr. Simon Trebst<br />Jan Attig</td>\n",
    "</tr>\n",
    "</table>\n",
    "<hr>\n",
    "<h1 style=\"font-weight:bold; text-align: center; margin: 0px; padding:0px;\">Computerphysik</h1>\n",
    "<h1 style=\"font-weight:bold; text-align: center; margin: 0px; padding:0px;\">&Uuml;bungsblatt 1</h1>\n",
    "<hr>\n",
    "<h3 style=\"font-weight:bold; text-align: center; margin: 0px; padding:0px; margin-bottom: 20px;\">Sommersemester 2019</h3>\n",
    "\n",
    "**Website:** [http://www.thp.uni-koeln.de/trebst/Lectures/2019-CompPhys.shtml](http://www.thp.uni-koeln.de/trebst/Lectures/2019-CompPhys.shtml)\n",
    "\n",
    "**Abgabe**: Keine / Präsenzübung in der zweiten Vorlesungswoche (10.4.2019 - 12.4.2019)\n",
    "\n",
    "**Besprechung**: 10.4.2019 - 12.4.2019\n",
    "\n",
    "### Punktevergabe\n",
    "\n",
    "Auf den folgenden Übungsblättern werden Sie zwei Aufgabentypen finden. Dies sind zum einen **gewöhnliche Übungsaufgaben**, die sich um die in der Vorlesung besprochenen numerischen Methoden und deren Implementierung drehen. Für diese werden wir Punkte vergeben, von denen Sie am Ende mindestens 50% erreicht haben sollten, um zur Klausur zugelassen zu werden. Alle Programmierkenntnisse, die Sie zum Lösen dieser Aufgaben benötigen, werden Sie im Rahmen der Vorlesung, der Übungsaufgaben und zusätzlicher Tutorialblätter erlernen. \n",
    "\n",
    "Darüber hinaus werden wir eine Reihe von **Bonus-Aufgaben** anbieten, die weiterführende Anwendungen der erlernten Kenntnissen ermöglichen und zum Teil etwas komplexere Programmieraufgaben beinhalten. Diese **optionalen** Aufgaben\n",
    "bauen auf den gewöhnlichen Übungsaufgaben auf und wenden sich an jene unter Ihnen, die Interesse haben, Ihre Programmierkenntnisse zu erweitern und sich umfassender mit den vielseitigen, praktischen Anwendungen der Computer-Physik zu beschäftigen. Durch deren Bearbeitung können Sie außerdem **Bonuspunkte** sammeln.\n",
    "\n",
    "### Abgabemodus\n",
    "\n",
    "Die Abgabe erfolgt **wöchentlich** und **individuell**, d.h. wir erlauben keine Gruppenabgaben. Bitte nutzen Sie für die Bearbeitung die Notebooks, die Sie dann per Email an Ihren Übungsgruppenleiter senden. Bitte stellen Sie sicher, dass Ihre Abgabe **Ihren Namen und Ihre Matrikelnummer enthält**."
   ]
  },
  {
   "cell_type": "markdown",
   "metadata": {},
   "source": [
    "<table style=\"border-style: none; width: 100%\"><tr style=\"border-style: none;\">\n",
    "<td style=\"border-style: none; width: 1%; font-size: 20px; font-weight: bold; text-align: left\">Aufgaben auf &Uuml;bungsblatt 1</td>\n",
    "<td style=\"border-style: none; width: 1%; text-align: right\"></td></tr></table>\n",
    "\n",
    "\n",
    "- **Einstiegsaufgaben** (Präsenzübung)\n",
    "- Fibonacci Zahlen  (Präsenzübung)\n",
    "- Gumowski-Mira Attraktor  (Präsenzübung)"
   ]
  },
  {
   "cell_type": "markdown",
   "metadata": {},
   "source": [
    "<table style=\"border-style: none; width: 100%\"><tr style=\"border-style: none;\">\n",
    "<td style=\"border-style: none; width: 1%; font-size: 20px; font-weight: bold; text-align: left\">Einstiegsaufgaben</td>\n",
    "<td style=\"border-style: none; width: 1%; text-align: right\"></td></tr></table>\n",
    "\n",
    "\n",
    "## 0. Hello World\n",
    "\n",
    "Schreiben Sie ein sogenanntes **Hello world** Programm in Julia, d.h. ein Programm, welches die einfach Ausgabe “Hello world!\" erzeugt."
   ]
  },
  {
   "cell_type": "code",
   "execution_count": null,
   "metadata": {
    "collapsed": true
   },
   "outputs": [],
   "source": []
  },
  {
   "cell_type": "markdown",
   "metadata": {
    "collapsed": true
   },
   "source": [
    "## 1. Variablen und Summation\n",
    "\n",
    "Erweitern Sie den unten stehenden Code, damit er die Summe der beiden vordefinierten Zahlen `x` und `y` in einer neuen Variable `z` speichert und diese dann ausgibt."
   ]
  },
  {
   "cell_type": "code",
   "execution_count": null,
   "metadata": {
    "collapsed": true
   },
   "outputs": [],
   "source": [
    "x = 3\n",
    "y = 4"
   ]
  },
  {
   "cell_type": "markdown",
   "metadata": {},
   "source": [
    "Erweitern Sie Ihren Code indem Sie testen, ob die neue Zahl `z` gerade ist"
   ]
  },
  {
   "cell_type": "markdown",
   "metadata": {
    "collapsed": true
   },
   "source": [
    "## 2. Quadratzahlen\n",
    "\n",
    "Schreiben Sie eine kleine `for`-Schleife, in der Sie die Quadratzahlen der Zahlen von 1 bis 10 ausgeben."
   ]
  },
  {
   "cell_type": "code",
   "execution_count": null,
   "metadata": {
    "collapsed": true
   },
   "outputs": [],
   "source": []
  },
  {
   "cell_type": "markdown",
   "metadata": {
    "collapsed": true
   },
   "source": [
    "## 3. Gerade Zahlen\n",
    "\n",
    "Schreiben Sie eine kleine `for`-Schleife, in der Sie testen welche der Zahlen von 1 bis 20 gerade sind."
   ]
  },
  {
   "cell_type": "code",
   "execution_count": null,
   "metadata": {
    "collapsed": true
   },
   "outputs": [],
   "source": []
  },
  {
   "cell_type": "markdown",
   "metadata": {},
   "source": [
    "Versuchen Sie danach Ihre `for`-Schleife zu erweitern und zu testen ob die gerade Zahlen zusaetzlich durch 3 teilbar sind."
   ]
  },
  {
   "cell_type": "markdown",
   "metadata": {
    "collapsed": true
   },
   "source": [
    "## 4. Dokumentation und runden\n",
    "\n",
    "Im nachfolgenden Code sehen Sie eine Fließkommazahl `x`. Suchen Sie in der Julia Dokumentation nach einer Funktion, die diese Zahl auf den Datentyp `Int64` zu einer ganzen Zahl runden kann. Beschreiben Sie außerdem, wie Sie vorgegangen sind."
   ]
  },
  {
   "cell_type": "code",
   "execution_count": null,
   "metadata": {
    "collapsed": true
   },
   "outputs": [],
   "source": [
    "x = 3.1415"
   ]
  }
 ],
 "metadata": {
  "@webio": {
   "lastCommId": "143fec47b45b49c3881a7d7ea601a84c",
   "lastKernelId": "4a2d3fd1-ce3d-4782-a973-1158449f88a2"
  },
  "kernelspec": {
   "display_name": "Julia 1.0.0",
   "language": "julia",
   "name": "julia-1.0"
  },
  "language_info": {
   "file_extension": ".jl",
   "mimetype": "application/julia",
   "name": "julia",
   "version": "1.0.0"
  }
 },
 "nbformat": 4,
 "nbformat_minor": 1
}

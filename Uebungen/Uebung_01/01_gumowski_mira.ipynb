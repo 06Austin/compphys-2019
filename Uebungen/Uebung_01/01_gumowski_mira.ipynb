{
 "cells": [
  {
   "cell_type": "markdown",
   "metadata": {},
   "source": [
    "<table style=\"width: 100%; border-style: none;\">\n",
    "<tr style=\"border-style: none\">\n",
    "<td style=\"border-style: none; width: 1%; font-size: 16px\">Institut f&uuml;r Theoretische Physik<br /> Universit&auml;t zu K&ouml;ln</td>\n",
    "<td style=\"border-style: none; width: 1%; font-size: 16px\">&nbsp;</td>\n",
    "<td style=\"border-style: none; width: 1%; text-align: right; font-size: 16px\">Prof. Dr. Simon Trebst<br />Jan Attig</td>\n",
    "</tr>\n",
    "</table>\n",
    "<hr>\n",
    "<h1 style=\"font-weight:bold; text-align: center; margin: 0px; padding:0px;\">Computerphysik</h1>\n",
    "<h1 style=\"font-weight:bold; text-align: center; margin: 0px; padding:0px;\">&Uuml;bungsblatt 1</h1>\n",
    "<hr>\n",
    "<h3 style=\"font-weight:bold; text-align: center; margin: 0px; padding:0px; margin-bottom: 20px;\">Sommersemester 2019</h3>\n",
    "\n",
    "**Website:** [http://www.thp.uni-koeln.de/trebst/Lectures/2019-CompPhys.shtml](http://www.thp.uni-koeln.de/trebst/Lectures/2019-CompPhys.shtml)\n",
    "\n",
    "**Abgabe**: Keine / Präsenzübung in der zweiten Vorlesungswoche (10.4.2019 - 12.4.2019)\n",
    "\n",
    "**Besprechung**: 10.4.2019 - 12.4.2019"
   ]
  },
  {
   "cell_type": "markdown",
   "metadata": {},
   "source": [
    "<table style=\"border-style: none; width: 100%\"><tr style=\"border-style: none;\">\n",
    "<td style=\"border-style: none; width: 1%; font-size: 20px; font-weight: bold; text-align: left\">Aufgaben auf &Uuml;bungsblatt 1</td>\n",
    "<td style=\"border-style: none; width: 1%; text-align: right\"></td></tr></table>\n",
    "\n",
    "\n",
    "- Einstiegsaufgaben (Praesenzuebung)\n",
    "- Fibonacci Zahlen  (Praesenzuebung)\n",
    "- **Gumowski-Mira Attraktor**  (Praesenzuebung)"
   ]
  },
  {
   "cell_type": "markdown",
   "metadata": {},
   "source": [
    "<table style=\"border-style: none; width: 100%\"><tr style=\"border-style: none;\">\n",
    "<td style=\"border-style: none; width: 1%; font-size: 20px; font-weight: bold; text-align: left\">Gumowski-Mira Attraktor</td>\n",
    "<td style=\"border-style: none; width: 1%; text-align: right\"></td></tr></table>\n",
    "\n",
    "Wir betrachten ein **dynamisches System**, das einen zeitabhängigen Prozess beschreibt, dessen Entwicklung lediglich von der Wahl des Anfangszustands abhängt. Zu welchem Zeitpunkt der Prozess gestartet wird, ist jedoch unerheblich. Alle möglichen Zustände spannen den **Phasenraum** auf. Ein **Attraktor** ist eine Untermenge von Zuständen, die im Laufe der Zeit vom System angenommen werden. \n",
    "\n",
    "Wir betrachten ein Modell, dessen Phasenraum zweidimensional ist mit Koordinaten $(x, y)$. Außerdem besitzt das Modell drei Parameter $a, b, c$. Die Zeitentwicklung geschieht gemäß des folgenden Gesetz:\n",
    "\n",
    "$\\quad x_{n + 1} = y_n + a\\cdot (1 + b\\cdot y_n^2)\\cdot y_n + f(x_n)$\n",
    "\n",
    "$\\quad y_{n + 1} = - x_n + f(x_{n + 1})$\n",
    "\n",
    "Die Funktion $f(x)$ is gegeben durch\n",
    "\n",
    "$\\quad f(x) = c\\cdot x + \\dfrac{2\\cdot(1 - c)\\cdot x^2}{1 + x^2}$\n",
    "\n",
    "Dieses Modell ist unter dem Namen **Gumowski-Mira Attraktor** bekannt. Ziel der Aufgabe wird es sein, eine Zeitreihe von $N$ Punkten nach der obigen Iterationsvorschrift zu generieren und danach zu visualisieren.\n",
    "\n",
    "\n",
    "### Zerlegung in Teilschritte\n",
    "\n",
    "Bei größeren und komplexeren Aufgaben ist es häufig sinnvoll, die Aufgabe in kleine Schritte zu zerlegen. Diese werden in sogenannten *Funktionen* zusammengefasst und können für sich genommen alleine definiert werden *ohne* dass der Rest des Codes geschrieben wurde. Wir möchten diese Aufgabe nutzen um Ihnen den Prozess des Aufteilens in kleine Schritte näher zu bringen und zu verdeutlichen."
   ]
  },
  {
   "cell_type": "markdown",
   "metadata": {},
   "source": [
    "### Einzelner Gumowski-Mira Schritt\n",
    "\n",
    "Als ersten Schritt möchten wir eine Funktion schreiben, die nur **einen einzigen** Gumowski-Mira Iterationsschritt durchführt. Die Funktion bekommt sowohl die aktuellen Koordinaten $x$ und $y$, sowie die Parameter $a$,$b$ und $c$ sowie die Funktion $f$ übergeben. \n",
    "\n",
    "Ihre Aufgabe ist es, die Definition der neuen Koordinaten, benannt `new_x` und `new_y` so abzuändern, dass die korrekte Gumowski Mira Vorschrift implementiert ist. Am Schluss der Funktion werden diese Koordinaten dann zurückgegeben."
   ]
  },
  {
   "cell_type": "code",
   "execution_count": null,
   "metadata": {},
   "outputs": [],
   "source": [
    "# one GM step\n",
    "function gumowski_mira_step(\n",
    "        x, y,\n",
    "        a, b, c,\n",
    "        f\n",
    "    )\n",
    "    \n",
    "    #####################################\n",
    "    # DIESER CODE SOLL GEAENDERT WERDEN #\n",
    "    #####################################\n",
    "    new_x = x\n",
    "    new_y = y\n",
    "    #####################################\n",
    "    \n",
    "    # return the new coordinates\n",
    "    return (new_x, new_y)\n",
    "end"
   ]
  },
  {
   "cell_type": "markdown",
   "metadata": {},
   "source": [
    "### Mehrere Gumowski-Mira Schritte und Bild erzeugen\n",
    "\n",
    "Im Folgenden möchten wir nun das Kernstück des Codes schreiben, eine Funktion, die basierend auf den übergebenen Parametern ein Bild des Attraktors erzeugt (*aber noch nicht plottet oder anzeigt*). Diese Bild wird in der Funktion als eine Matrix erzeugt und am Ende des Codes zurückgegeben.\n",
    "\n",
    "Ihre Aufgabe ist es, den Code so zu erweitern, dass er $N$ Gumowski-Mira Schritte ausführt. Bei jedem Gumowski-Mira Schritt soll anschließend der entsprechende Pixel des Bildes (basierend auf den übergebenen Koordinatengrenzen) gefunden und um 1 erhöht werden.\n",
    "\n",
    "*Hinweis:* Wenn Sie nicht wissen, wo Sie anfangen sollen, schreiben Sie die Anweisung zuerst Folge von Kommentaren in den Code und versuchen Sie nach und nach Ihre Kommentare in Code umzuwandeln."
   ]
  },
  {
   "cell_type": "code",
   "execution_count": null,
   "metadata": {},
   "outputs": [],
   "source": [
    "# GM function\n",
    "function gumowski_mira(\n",
    "            x, y,\n",
    "            a, b, c,\n",
    "            min_x, max_x,\n",
    "            min_y, max_y,\n",
    "            resolution,\n",
    "            N\n",
    "        )\n",
    "    \n",
    "    # define the width and height of image\n",
    "    width  = resolution\n",
    "    height = resolution\n",
    "    \n",
    "    # construct the image\n",
    "    image = zeros(Int64, width, height)\n",
    "    \n",
    "    \n",
    "    #############################\n",
    "    # HIER SOLL IHR CODE STEHEN #\n",
    "    #############################\n",
    "    \n",
    "    \n",
    "    # return the image\n",
    "    return image\n",
    "end"
   ]
  },
  {
   "cell_type": "markdown",
   "metadata": {},
   "source": [
    "### Darstellen des Bildes\n",
    "\n",
    "Für die Darstellung eines Gumowski-Mira Bildes haben wir Ihnen ein wenig Code zur Verfügung gestellt. Dieser benutzt die Plotting Bibliothek `PyPlot`, die letzten Endes die `python` Bibliothek `matplotlib` enthält."
   ]
  },
  {
   "cell_type": "code",
   "execution_count": null,
   "metadata": {},
   "outputs": [],
   "source": [
    "# import library pyplot for plotting\n",
    "using PyPlot\n",
    "pygui(false); # switch between inline display (=false) and external window (=true)\n",
    "\n",
    "# plotting a Gumowski Mira image\n",
    "function plot_gumowski_mira(\n",
    "            image\n",
    "        )\n",
    "    \n",
    "    # make a new figure\n",
    "    figure()\n",
    "    \n",
    "    # show the image\n",
    "    imshow(log.(image), cmap=\"Spectral\", interpolation=\"none\")\n",
    "    \n",
    "    # turn off the axis\n",
    "    gca().set_axis_off()\n",
    "end"
   ]
  },
  {
   "cell_type": "markdown",
   "metadata": {},
   "source": [
    "### Testen der Implementierung und Erzeugung von Bildern\n",
    "\n",
    "Wir möchten im Folgenden den gesamten Code testen. Dafür sollen zuerst die Parameter des Attraktors definiert werden. Danach sollen die Parameter an die Funktion `gumowski_mira` übergeben werden, um ein Bild zu erzeugen, das danach mit der Funktion `plot_gumowski_mira` angezeigt wird.\n",
    "\n",
    "Schreiben Sie diesen Code, der die Parameter $a = 0.026, b=-0.034, c=-0.802095$ sowie $(x_0, y_0) = (0.1, 0.1)$ als initiale Koordinate benutzt. Verwenden Sie $N = 1.000.000$ Iterationsschritte im Bereich $(x, y) \\in (-18, 22)\\times (-14, 12)$."
   ]
  },
  {
   "cell_type": "code",
   "execution_count": null,
   "metadata": {},
   "outputs": [],
   "source": []
  },
  {
   "cell_type": "markdown",
   "metadata": {},
   "source": [
    "Erzeugen Sie einen zweiten Code, der die Parameter $a = -0.05, b=0.005, c=-0.495$ sowie $(x_0, y_0) = (0.085, 0.085)$ als initiale Koordinate benutzt. Nutzen Sie $N = 1.000.000$ Iterationsschritte im Bereich $(x, y) \\in (-12, 16)\\times (-15, 8)$."
   ]
  },
  {
   "cell_type": "code",
   "execution_count": null,
   "metadata": {},
   "outputs": [],
   "source": []
  }
 ],
 "metadata": {
  "@webio": {
   "lastCommId": "197dd6ff15424bf8aac92be5c4249fd8",
   "lastKernelId": "4f00fa66-0776-4a48-9e68-3bdbc9e5ea52"
  },
  "kernelspec": {
   "display_name": "Julia 1.0.0",
   "language": "julia",
   "name": "julia-1.0"
  },
  "language_info": {
   "file_extension": ".jl",
   "mimetype": "application/julia",
   "name": "julia",
   "version": "1.0.0"
  }
 },
 "nbformat": 4,
 "nbformat_minor": 1
}

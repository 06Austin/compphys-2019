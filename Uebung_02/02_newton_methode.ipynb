{
 "cells": [
  {
   "cell_type": "markdown",
   "metadata": {},
   "source": [
    "<table style=\"width: 100%; border-style: none;\">\n",
    "<tr style=\"border-style: none\">\n",
    "<td style=\"border-style: none; width: 1%; font-size: 16px; text-align: left\">Institut f&uuml;r Theoretische Physik<br /> Universit&auml;t zu K&ouml;ln</td>\n",
    "<td style=\"border-style: none; width: 1%; font-size: 16px\">&nbsp;</td>\n",
    "<td style=\"border-style: none; width: 1%; text-align: right; font-size: 16px\">Prof. Dr. Simon Trebst<br />Jan Attig</td>\n",
    "</tr>\n",
    "</table>\n",
    "<hr>\n",
    "<h1 style=\"font-weight:bold; text-align: center; margin: 0px; padding:0px;\">Computerphysik</h1>\n",
    "<h1 style=\"font-weight:bold; text-align: center; margin: 0px; padding:0px;\">&Uuml;bungsblatt 2</h1>\n",
    "<hr>\n",
    "<h3 style=\"font-weight:bold; text-align: center; margin: 0px; padding:0px; margin-bottom: 20px;\">Sommersemester 2019</h3>\n",
    "\n",
    "**Website:** [http://www.thp.uni-koeln.de/trebst/Lectures/2019-CompPhys.shtml](http://www.thp.uni-koeln.de/trebst/Lectures/2019-CompPhys.shtml)\n",
    "\n",
    "**Abgabe**: Montag, 15.4.2019, **vor** der Vorlesung\n",
    "\n",
    "**Besprechung**: 17.4.2019 - 19.4.2019\n",
    "\n",
    "\n",
    "**Name**: <font color=\"red\">Bitte geben Sie ihren Namen an</font>\n",
    "\n",
    "**Matrikelnummer**: <font color=\"red\">Bitte geben Sie ihre Matrikelnummer an</font>"
   ]
  },
  {
   "cell_type": "markdown",
   "metadata": {},
   "source": [
    "<table style=\"border-style: none; width: 100%\"><tr style=\"border-style: none;\">\n",
    "<td style=\"border-style: none; width: 1%; font-size: 20px; font-weight: bold; text-align: left\">Aufgaben auf &Uuml;bungsblatt 2</td>\n",
    "<td style=\"border-style: none; width: 1%; text-align: right\"></td></tr></table>\n",
    "\n",
    "\n",
    "- Divide and Conquer [6 Punkte]\n",
    "- **Newton Verfahren**  [4 Punkte]\n",
    "- Newton Fraktale [Bonus - 5 Punkte]"
   ]
  },
  {
   "cell_type": "markdown",
   "metadata": {},
   "source": [
    "<table style=\"border-style: none; width: 100%\"><tr style=\"border-style: none;\">\n",
    "<td style=\"border-style: none; width: 1%; font-size: 20px; font-weight: bold; text-align:left\">Newton Verfahren</td>\n",
    "<td style=\"border-style: none; width: 1%; font-size: 15px; text-align: right\">(4 Punkte)</td></tr></table>\n",
    "\n",
    "In der Vorlesung haben Sie das **Newton-Verfahren** kennengelernt. In dieser Aufgabe soll das Verfahren nun angewendet werden, um die Nullstelle der weiter unten beschriebenen Funktion zu bestimmen. "
   ]
  },
  {
   "cell_type": "markdown",
   "metadata": {},
   "source": [
    "##### a) Implementierung in Julia\n",
    "\n",
    "Vervollständigen Sie die nachfolgende Codeschablone um eine Jullia-Funktion zu erzeugen, die mittels Newton-Verfahren die Nullstelle einer übergebenen (mathematischen) Funktion `f` zurückgibt.\n",
    "\n",
    "Die bereits vorgesehenen Übergabeparameter der Julia-Funktion `newton` sind\n",
    "- `f` die (mathematische) Funktion, deren Nullstelle bestimmt werden soll\n",
    "- `x` der Startwert\n",
    "- `iterations` maximale Anzahl an Newton-Schritten\n",
    "- `precision` Genauigkeit der Nullstellenbestimmung\n",
    "- `step_size` die Größe von $\\Delta x$ bei Berechnung des Newton-Schritts"
   ]
  },
  {
   "cell_type": "code",
   "execution_count": null,
   "metadata": {},
   "outputs": [],
   "source": [
    "function newton(f, x, iterations, precision, step_size)\n",
    "    \n",
    "    ###############################\n",
    "    # HIER SOLLTE IHR CODE STEHEN #\n",
    "    ###############################\n",
    "    \n",
    "    # Falls Nullstelle nicht bestimmt werde kann: Gib Error aus und das aktuelle x zurueck\n",
    "    @warn \"Nullstelle konnte nicht in $(iterations) iterationen erreicht werden\"\n",
    "    return x\n",
    "end"
   ]
  },
  {
   "cell_type": "markdown",
   "metadata": {},
   "source": [
    "Zum Testen der Funktion bestimmen Sie die Nullstellen der Funktion `f` für Startpunkte im Intervall $[1, 100]$. Die zu untersuchende Funktion werden Sie in der Quantenmechanik kennenlernen. Bei der Lösung des Problems eines Teilchens in einem endlichen Potentialtopf trifft man auf die Gleichung\n",
    "\n",
    "$\\quad k\\tan(ka) - \\kappa = 0$\n",
    "\n",
    "in der wir nun $a, \\kappa = 1$ setzen:"
   ]
  },
  {
   "cell_type": "code",
   "execution_count": null,
   "metadata": {},
   "outputs": [],
   "source": [
    "f(k) = k * tan(k) - 1"
   ]
  },
  {
   "cell_type": "code",
   "execution_count": null,
   "metadata": {},
   "outputs": [],
   "source": []
  },
  {
   "cell_type": "markdown",
   "metadata": {},
   "source": [
    "##### b) Nullstellen in Abhängigkeit vom Startwert\n",
    "\n",
    "Untersuchen Sie nun die gefundene Nullstelle in Abhängigkeit des übergebenen Startwerts. Tragen Sie dafür die Werte der gefundenen Nullstellen gegen Startpunkte im Intervall $[1, 100]$ auf. Welche Schlüsse können Sie aus dem Plot ziehen?"
   ]
  },
  {
   "cell_type": "code",
   "execution_count": null,
   "metadata": {},
   "outputs": [],
   "source": []
  }
 ],
 "metadata": {
  "kernelspec": {
   "display_name": "Julia 1.0.1",
   "language": "julia",
   "name": "julia-1.0"
  },
  "language_info": {
   "file_extension": ".jl",
   "mimetype": "application/julia",
   "name": "julia",
   "version": "1.0.1"
  }
 },
 "nbformat": 4,
 "nbformat_minor": 1
}

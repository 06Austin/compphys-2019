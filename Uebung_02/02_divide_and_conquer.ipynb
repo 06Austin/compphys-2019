{
 "cells": [
  {
   "cell_type": "markdown",
   "metadata": {},
   "source": [
    "<table style=\"width: 100%; border-style: none;\">\n",
    "<tr style=\"border-style: none\">\n",
    "<td style=\"border-style: none; width: 1%; font-size: 16px; text-align: left\">Institut f&uuml;r Theoretische Physik<br /> Universit&auml;t zu K&ouml;ln</td>\n",
    "<td style=\"border-style: none; width: 1%; font-size: 16px\">&nbsp;</td>\n",
    "<td style=\"border-style: none; width: 1%; text-align: right; font-size: 16px\">Prof. Dr. Simon Trebst<br />Jan Attig</td>\n",
    "</tr>\n",
    "</table>\n",
    "<hr>\n",
    "<h1 style=\"font-weight:bold; text-align: center; margin: 0px; padding:0px;\">Computerphysik</h1>\n",
    "<h1 style=\"font-weight:bold; text-align: center; margin: 0px; padding:0px;\">&Uuml;bungsblatt 2</h1>\n",
    "<hr>\n",
    "<h3 style=\"font-weight:bold; text-align: center; margin: 0px; padding:0px; margin-bottom: 20px;\">Sommersemester 2019</h3>\n",
    "\n",
    "**Website:** [http://www.thp.uni-koeln.de/trebst/Lectures/2019-CompPhys.shtml](http://www.thp.uni-koeln.de/trebst/Lectures/2019-CompPhys.shtml)\n",
    "\n",
    "**Abgabe**: Montag, 15.4.2019, **vor** der Vorlesung\n",
    "\n",
    "**Besprechung**: 17.4.2019 - 19.4.2019\n",
    "\n",
    "\n",
    "**Name**: <font color=\"red\">Bitte geben Sie ihren Namen an</font>\n",
    "\n",
    "**Matrikelnummer**: <font color=\"red\">Bitte geben Sie ihre Matrikelnummer an</font>"
   ]
  },
  {
   "cell_type": "markdown",
   "metadata": {},
   "source": [
    "<table style=\"border-style: none; width: 100%\"><tr style=\"border-style: none;\">\n",
    "<td style=\"border-style: none; width: 1%; font-size: 20px; font-weight: bold; text-align: left\">Aufgaben auf &Uuml;bungsblatt 2</td>\n",
    "<td style=\"border-style: none; width: 1%; text-align: right\"></td></tr></table>\n",
    "\n",
    "\n",
    "- **Divide and Conquer** [6 Punkte]\n",
    "- Newton Verfahren  [4 Punkte]\n",
    "- Newton Fraktale [Bonus - 5 Punkte]"
   ]
  },
  {
   "cell_type": "markdown",
   "metadata": {},
   "source": [
    "<table style=\"border-style: none; width: 100%\"><tr style=\"border-style: none;\">\n",
    "<td style=\"border-style: none; width: 1%; font-size: 20px; text-align: left; font-weight: bold\">Divide and Conquer</td>\n",
    "<td style=\"border-style: none; width: 1%; font-size: 15px; text-align: right\">(6 Punkte)</td></tr></table>\n",
    "\n",
    "Eine häufig wiederkehrende Aufgabe ist die Bestimmung von Nullstellen einer beliebigen\n",
    "Funktion. Um dies zu tun, haben Sie in der Vorlesung einige iterative Verfahren kennengelernt,\n",
    "die wir im Rahmen dieser Übung implementieren und vergleichen wollen. Die beiden hier behandelten Methoden zählen zum Bereich der *divide and conquer* Algorithmen, in denen wir ein Problem so lange in kleine Probleme zerlegen, bis sie irgendwann als lösbar gelten.\n",
    "\n",
    "Als Funktion für die Nullstellenbestimmung soll eine Funktion untersucht werden, die Sie in der Quantenmechanik kennenlernen werden oder bereits kennengelernt haben. Bei der Lösung des Problems eines Teilchens in einem endlichen Potentialtopf trifft man auf die Gleichung\n",
    "\n",
    "$\\quad k\\tan(ka) - \\kappa = 0$\n",
    "\n",
    "in der wir nun $a, \\kappa = 1$ setzen:"
   ]
  },
  {
   "cell_type": "code",
   "execution_count": null,
   "metadata": {},
   "outputs": [],
   "source": [
    "f(k) = k * tan(k) - 1"
   ]
  },
  {
   "cell_type": "markdown",
   "metadata": {},
   "source": [
    "## Binary Search\n",
    "\n",
    "Als erste Methode kann ein Verfahren angewendet werden, das Sie bereits in der Mathematik als Intervallschachtelung kennengelernt haben und auch als **binary search** bekannt ist. Nachdem zwei Endpunkte gewählt wurden, wird der Bereich halbiert und die resultierende Hälfte, die die Nullstelle enthält, erneut untersucht. Dieser Vorgang wird solange wiederholt, bis die gewünschte Präzision erreicht ist, danach wird das Verfahren abgebrochen.\n",
    "\n",
    "##### a) Flußdiagramm\n",
    "\n",
    "Zeichnen Sie ein [Flußdiagramm](https://de.wikipedia.org/wiki/Programmablaufplan), das den Algorithmus des Binary Search beschreibt. Ihr Flußdiagramm soll die Kernelemente des Algorithmus enthalten und Ihnen helfen im nächsten Aufgabenteil eine Implementierung in Julia vorzunehmen.\n",
    "\n",
    "*Hinweis*: Ihr Flußdiagramm sollte auf einem seperaten Blatt Papier oder in einem Grafikprogramm Ihrer Wahl entstehen und per Foto oder Bildatei abgegeben werden.\n",
    "\n",
    "##### b) Julia Implementation\n",
    "\n",
    "Vervollständigen Sie nun auch das folgende Programm-Skelett, um die Nullstelle mittels *binary search* zu finden"
   ]
  },
  {
   "cell_type": "code",
   "execution_count": null,
   "metadata": {},
   "outputs": [],
   "source": [
    "function binary_search(f, x_left, x_right, precision, max_iterations=100)\n",
    "    \n",
    "    ###############################\n",
    "    # HIER SOLLTE IHR CODE STEHEN #\n",
    "    ###############################\n",
    "    \n",
    "    @error \"precision not reached in [$(x_left),$(x_right)], f(x0)=$(f((x_left+x_right) / 2)), aborting...\"\n",
    "end"
   ]
  },
  {
   "cell_type": "markdown",
   "metadata": {},
   "source": [
    "Testen Sie erneut Ihren Code, indem Sie versuchen eine Nullstelle der Funktion `f` zwischen 2 und 5 bei einer Präzision von 1e-3 zu finden. Diese sollte sich bei $x_0 = 3.425$ befinden."
   ]
  },
  {
   "cell_type": "code",
   "execution_count": null,
   "metadata": {},
   "outputs": [],
   "source": [
    "binary_search(f, 2, 5, 1e-3)"
   ]
  },
  {
   "cell_type": "markdown",
   "metadata": {},
   "source": [
    "##### c) Probleme des Binary Search\n",
    "\n",
    "Beschreiben Sie in Stichpunkten, welche Probleme der *binary search* Algorithmus besitzt. Zeigen Sie weiterhin in welchen Fällen man eine unerwartete Ausgabe erhält. Hierfür können Sie gerne eine neue Funktion untersuchen oder bestimmte Parameter für die bereits definierte Funktion `f` angeben. Wenn möglich, geben Sie Strategien oder Möglichkeiten an, diese Probleme im Algorithmus zu lösen.\n",
    "\n",
    "*Hinweis*: Sie müssen bei der Angabe der Lösungsvorschläge nichts implementieren, sondern lediglich darlegen, wie die Probleme vermieden werden können!"
   ]
  },
  {
   "cell_type": "code",
   "execution_count": null,
   "metadata": {},
   "outputs": [],
   "source": []
  },
  {
   "cell_type": "markdown",
   "metadata": {},
   "source": [
    "## Grid Search\n",
    "\n",
    "Als weitere Methode soll ein sogenannter **grid search** implementiert werden. Dazu wird ein Stück des Definitionsbereich um die Nullstelle herum in kleinere Bereiche unterteilt. Als nächstes wird der Bereich identifiziert, in dem die Nullstelle liegt und dieser wieder unterteilt. Wie zuvor wird auch dieser Vorgang dann abgebrochen, wenn die gewünschte Genauigkeit erreicht ist. Dieses Verfahren funktioniert also ähnlich wie das vorher implementiert *binary search*, es werden nur mehr Unterteilungen in jedem Iterationsschritt vorgenommen.\n",
    "\n",
    "##### a) Implementation in Julia\n",
    "\n",
    "Vervollständigen Sie den untenstehenden Code zu einer Funktion, die eine *grid search* Nullstellensuche durchführt:"
   ]
  },
  {
   "cell_type": "code",
   "execution_count": null,
   "metadata": {},
   "outputs": [],
   "source": [
    "function grid_search(f, x_left, x_right, n_grid_points, precision, max_iterations=100)\n",
    "    \n",
    "    # Definition of grid on x-axis\n",
    "    grid = range(x_left, stop=x_right, length=n_grid_points)\n",
    "    \n",
    "    ###############################\n",
    "    # HIER SOLLTE IHR CODE STEHEN #\n",
    "    ###############################\n",
    "    \n",
    "    @error \"precision not reached in [$(x_left),$(x_right)], f(x0)=$(f((x_left+x_right) / 2)), aborting...\"\n",
    "end"
   ]
  },
  {
   "cell_type": "markdown",
   "metadata": {},
   "source": [
    "Testen Sie erneut Ihren Code, indem Sie versuchen eine Nullstelle der Funktion `f` zwischen 2 und 5 bei einer Präzision von 1e-3 zu finden. Diese sollte sich bei $x_0 = 3.425$ befinden."
   ]
  },
  {
   "cell_type": "code",
   "execution_count": null,
   "metadata": {},
   "outputs": [],
   "source": [
    "grid_search(f, 2, 5, 100, 1e-3)"
   ]
  },
  {
   "cell_type": "markdown",
   "metadata": {},
   "source": [
    "##### b) Vor- und Nachteile gegenüber Binary Search\n",
    "\n",
    "Beschreiben Sie die Vor- und Nachteile des *grid search* Algorithmus im Vergleich zum *binary search* Algorithmus. In welchen Fällen ist welcher Algorithmus besser geeignet?"
   ]
  },
  {
   "cell_type": "code",
   "execution_count": null,
   "metadata": {},
   "outputs": [],
   "source": []
  }
 ],
 "metadata": {
  "kernelspec": {
   "display_name": "Julia 1.0.1",
   "language": "julia",
   "name": "julia-1.0"
  },
  "language_info": {
   "file_extension": ".jl",
   "mimetype": "application/julia",
   "name": "julia",
   "version": "1.0.1"
  }
 },
 "nbformat": 4,
 "nbformat_minor": 1
}
